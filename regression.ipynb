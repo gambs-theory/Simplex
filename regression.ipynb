{
 "cells": [
  {
   "cell_type": "markdown",
   "id": "11a8cf5a-04db-4197-a7de-dd2c77907033",
   "metadata": {},
   "source": [
    "Autor: Vinicius Mari Marrafon"
   ]
  },
  {
   "cell_type": "code",
   "execution_count": 7,
   "id": "70f25cbd-ebbc-402b-96d8-48f84498af4a",
   "metadata": {},
   "outputs": [],
   "source": [
    "from mia.algebra import *\n",
    "from mia.model import *\n",
    "from mia.data import *"
   ]
  },
  {
   "cell_type": "code",
   "execution_count": 9,
   "id": "6bdae43f-8c2e-40a0-82c2-bdc4653f1737",
   "metadata": {},
   "outputs": [],
   "source": [
    "# Data visualization\n",
    "import matplotlib.pyplot as plt"
   ]
  },
  {
   "cell_type": "markdown",
   "id": "6e3cd9a6-57d5-4a22-a5cc-9fd6c855c3e4",
   "metadata": {},
   "source": [
    "### A Base de dados\n",
    "\n",
    "A base de dados foi tirado das notas de aulas da disciplina de estatística que eu fiz durante a graduação"
   ]
  },
  {
   "cell_type": "code",
   "execution_count": 29,
   "id": "5f60c806-25dd-4b3a-972d-a5e2d3a17bfa",
   "metadata": {},
   "outputs": [],
   "source": [
    "observations = {\n",
    "  '1': [0.0, 4.0],\n",
    "  '2': [1.0, 6.5],\n",
    "  '3': [1.0, 7.5],\n",
    "  '4': [2.0, 5.5],\n",
    "  '5': [2.0, 6.0],\n",
    "  '6': [2.5, 9.5],\n",
    "  '7': [3.0, 7.0],\n",
    "  '8': [4.0, 9.0],\n",
    "}\n",
    "\n",
    "# Um conjunto maior de observações: Modelo demorada para ser otimizado\n",
    "# Motivação: Trabalhar na otimização \n",
    "# observations = {\n",
    "#     '1':  [0.0,  1.0],\n",
    "#     '2':  [0.5,  0.9],\n",
    "#     '3':  [1.0,  0.7],\n",
    "#     '4':  [1.5,  1.5],\n",
    "#     '5':  [1.9,  2.0],\n",
    "#     '6':  [2.5,  2.4],\n",
    "#     '7':  [3.0,  3.2],\n",
    "#     '8':  [3.5,  2.0],\n",
    "#     '9':  [4.0,  2.7],\n",
    "#     '10': [4.5,  3.5],\n",
    "#     '11': [5.0,  1.0],\n",
    "#     '12': [5.5,  4.0],\n",
    "#     '13': [6.0,  3.6],\n",
    "#     '14': [6.6,  2.7],\n",
    "#     '15': [7.0,  5.7],\n",
    "#     '16': [7.6,  4.6],\n",
    "#     '17': [8.5,  6.0],\n",
    "#     '18': [9.0,  6.8],\n",
    "#     '19': [10.0, 7.3]\n",
    "# }"
   ]
  },
  {
   "cell_type": "code",
   "execution_count": 31,
   "id": "76131bef-f501-47f6-868c-257a133162df",
   "metadata": {},
   "outputs": [
    {
     "data": {
      "image/png": "[encoded data removed]",
      "text/plain": [
       "<Figure size 640x480 with 1 Axes>"
      ]
     },
     "metadata": {},
     "output_type": "display_data"
    }
   ],
   "source": [
    "x = [value[0] for value in observations.values()]\n",
    "y = [value[1] for value in observations.values()]\n",
    "\n",
    "plt.scatter(x, y, color='blue', marker='o')\n",
    "for label, (xi, yi) in observations.items():\n",
    "    plt.text(xi + 0.05, yi + 0.05, label) \n",
    "\n",
    "plt.xlabel('X')\n",
    "plt.ylabel('Y')\n",
    "plt.title('Observações')\n",
    "\n",
    "plt.grid(True)\n",
    "plt.xlim(0, 5)\n",
    "plt.ylim(0, 10)\n",
    "plt.show()"
   ]
  },
  {
   "cell_type": "markdown",
   "id": "72c49c5d-d4c0-4b96-badc-1a5678a2460e",
   "metadata": {},
   "source": [
    "## Modelo de Programação Linear 1\n",
    "\n",
    "O primeiro modelo consiste em minimizar a soma dos erros negativos e positivos da reta em relação aos pontos. O erro negativo está associado ao quanto o nosso modelo superestimou a previsão e o erro positivo, de maneira análoga, associado ao quanto o modelo subestimou a previsão. Em termos de <strong>Programação Linear</strong>, podemos modelar da seguinte maneira\n",
    "\n",
    "$$\\textbf{Minimizar }\\sum_{i=1}^{N} (u_i + v_i)$$\n",
    "\n",
    "Onde $N$ é o número de observações do nosso conjunto de dados, que para o nosso exemplo são $8$, $u_i$ é o erro postivo e $v_i$ é o erro negativo. O objetivo do modelo é <strong>encontrar os coeficientes $A$ e $B$ da reta que minimize a soma dos erros em todas as observações! </strong>. Em termos de programação linear, isto é adicionar as seguintes restrições para o modelo.\n",
    "\n",
    "$$\\textbf{Sujeito a } = \\begin{cases}Ax_1 + B + u_1 - v_1 = y_1 \\\\ Ax_2 + B + u_2 - v_2 = y_2  \\\\ \\vdots \\\\ Ax_8 + B + u_8 - v_8 = y_8 \\end{cases}$$\n",
    "\n",
    "No <strong>mia</strong>, fica"
   ]
  },
  {
   "cell_type": "code",
   "execution_count": 53,
   "id": "ed4f50a6-54a0-4031-90e1-fbd91d6fce53",
   "metadata": {},
   "outputs": [
    {
     "data": {
      "text/plain": [
       "1*u1 + 1*v1 + 1*u2 + 1*v2 + 1*u3 + 1*v3 + 1*u4 + 1*v4 + 1*u5 + 1*v5 + 1*u6 + 1*v6 + 1*u7 + 1*v7 + 1*u8 + 1*v8\n",
       "Subject to:\n",
       "\t0.0*A + 1*B + -1*v1 + 1*u1 == 4.0\n",
       "\t1.0*A + 1*B + -1*v2 + 1*u2 == 6.5\n",
       "\t1.0*A + 1*B + -1*v3 + 1*u3 == 7.5\n",
       "\t2.0*A + 1*B + -1*v4 + 1*u4 == 5.5\n",
       "\t2.0*A + 1*B + -1*v5 + 1*u5 == 6.0\n",
       "\t2.5*A + 1*B + -1*v6 + 1*u6 == 9.5\n",
       "\t3.0*A + 1*B + -1*v7 + 1*u7 == 7.0\n",
       "\t4.0*A + 1*B + -1*v8 + 1*u8 == 9.0\n",
       "\tA: (-inf, inf)\n",
       "\tB: (-inf, inf)\n",
       "\tu1: (0, inf)\n",
       "\tv1: (0, inf)\n",
       "\tu2: (0, inf)\n",
       "\tv2: (0, inf)\n",
       "\tu3: (0, inf)\n",
       "\tv3: (0, inf)\n",
       "\tu4: (0, inf)\n",
       "\tv4: (0, inf)\n",
       "\tu5: (0, inf)\n",
       "\tv5: (0, inf)\n",
       "\tu6: (0, inf)\n",
       "\tv6: (0, inf)\n",
       "\tu7: (0, inf)\n",
       "\tv7: (0, inf)\n",
       "\tu8: (0, inf)\n",
       "\tv8: (0, inf)"
      ]
     },
     "execution_count": 53,
     "metadata": {},
     "output_type": "execute_result"
    }
   ],
   "source": [
    "model = Model()\n",
    "\n",
    "a = Variable(name='A', bounds=(-float('inf'), float('inf')))\n",
    "b = Variable(name='B', bounds=(-float('inf'), float('inf')))\n",
    "\n",
    "# Adicione a variavel no modelo\n",
    "model.add_var(a)\n",
    "model.add_var(b)\n",
    "\n",
    "objective = Expression()\n",
    "\n",
    "for index, observation in observations.items():\n",
    "  u = Variable(name=f'u{index}', bounds=(0, float('inf')))\n",
    "  v = Variable(name=f'v{index}', bounds=(0, float('inf')))\n",
    "\n",
    "  # # Adicionando as variaveis no modelo (sao diferentes a cada iteracao)\n",
    "  model.add_var(u)\n",
    "  model.add_var(v)\n",
    "\n",
    "  # Adicionando as restricoes no modelo (repare que a e b sao UNICAS)\n",
    "  model.add_constr(observation[0] * a + b + (u - v) == observation[1])\n",
    "\n",
    "  # Somando a soma dos erros na funcao objetivo do modelo\n",
    "  objective += (u + v)\n",
    "\n",
    "model.set_objective(objective)\n",
    "model"
   ]
  },
  {
   "cell_type": "markdown",
   "id": "23b015b2-1fe4-4afe-9dde-a74490e07d56",
   "metadata": {},
   "source": [
    "O print acima nos mostra a estrutura do modelo. Podemos observar que as restrições relacionam o coeficiente linear, angular e os erros ao dado observado para cada observação!"
   ]
  },
  {
   "cell_type": "code",
   "execution_count": 55,
   "id": "4031fb9e-aff0-4f07-986e-5b548382f401",
   "metadata": {},
   "outputs": [],
   "source": [
    "# Rodando o algoritmo SIMPLEX com o objetivo de Minimizar\n",
    "f, sol = model.optimize(OBJECTIVE.MINIMIZE)"
   ]
  },
  {
   "cell_type": "markdown",
   "id": "7d16f58e-14e9-486e-b6c9-b18edbf85ea1",
   "metadata": {},
   "source": [
    "O algoritmo \"printa\" passo a passo do processo de otimização pelo método SIMPLEX revisado na tableau (Muito útil para estudar o algoritmo)"
   ]
  },
  {
   "cell_type": "code",
   "execution_count": 57,
   "id": "d686de47-af52-4876-bce7-f417ae04b267",
   "metadata": {},
   "outputs": [
    {
     "name": "stdout",
     "output_type": "stream",
     "text": [
      "f* = 8.125\n",
      "1.25x + 3.999999999999999 = y\n"
     ]
    }
   ],
   "source": [
    "if model.status == STATUS.OPTIMAL:\n",
    "    print (f\"f* = {f}\")\n",
    "    print (f\"{sol[a]}x + {sol[b]} = y\")\n",
    "else:\n",
    "    print (model.status)"
   ]
  },
  {
   "cell_type": "code",
   "execution_count": 59,
   "id": "72bf52d9-e05d-49df-9e38-2c6ec0c370f9",
   "metadata": {},
   "outputs": [
    {
     "data": {
      "image/png": "[encoded data removed]",
      "text/plain": [
       "<Figure size 640x480 with 1 Axes>"
      ]
     },
     "metadata": {},
     "output_type": "display_data"
    }
   ],
   "source": [
    "x = [value[0] for value in observations.values()]\n",
    "y = [value[1] for value in observations.values()]\n",
    "\n",
    "y_pred = [sol[a] * x_i[0] + sol[b] for x_i in observations.values()]\n",
    "\n",
    "plt.scatter(x, y, color='blue', marker='o')\n",
    "plt.plot(x, y_pred, color='red')\n",
    "for label, (xi, yi) in observations.items():\n",
    "    plt.text(xi + 0.05, yi + 0.05, label) \n",
    "\n",
    "plt.xlabel('X')\n",
    "plt.ylabel('Y')\n",
    "plt.title('Observações')\n",
    "\n",
    "plt.grid(True)\n",
    "plt.xlim(0, 5)\n",
    "plt.ylim(0, 10)\n",
    "plt.show()"
   ]
  },
  {
   "cell_type": "markdown",
   "id": "8c125d8a-b1bc-4a1d-a590-0a8838d5e9ae",
   "metadata": {},
   "source": [
    "## Modelo de Programação Linear 2\n",
    "\n",
    "O segundo modelo consiste em minimizar o <strong>máximo erro</strong> da reta em relação aos pontos. Isso é, o modelo irá apenas considerar qual dos erros positivos ou negativos é maior. Em termos de <strong>Programação Linear</strong>, podemos modelar da seguinte maneira.\n",
    "\n",
    "$$\\textbf{Minimizar }z$$\n",
    "\n",
    "Onde $z$ estará sujeito as seguintes restrições:\n",
    "\n",
    "$$\\begin{cases}z \\ge u_i \\\\ z \\ge v_i\\end{cases}$$\n",
    "\n",
    "Isso garante que $z$ sempre ira considerar o maior dos dois error $u_i$ e $v_i$. As demais restrições para cada observação se mantém.\n",
    "\n",
    "No <strong>mia</strong>, fica"
   ]
  },
  {
   "cell_type": "code",
   "execution_count": 41,
   "id": "56b4b700-af13-498d-a548-43ba6a5dda19",
   "metadata": {},
   "outputs": [
    {
     "data": {
      "text/plain": [
       "1*Z\n",
       "Subject to:\n",
       "\t0.0*A + 1*B + -1*v1 + 1*u1 == 4.0\n",
       "\t-1*u1 + 1*Z >= 0\n",
       "\t-1*v1 + 1*Z >= 0\n",
       "\t1.0*A + 1*B + -1*v2 + 1*u2 == 6.5\n",
       "\t-1*u2 + 1*Z >= 0\n",
       "\t-1*v2 + 1*Z >= 0\n",
       "\t1.0*A + 1*B + -1*v3 + 1*u3 == 7.5\n",
       "\t-1*u3 + 1*Z >= 0\n",
       "\t-1*v3 + 1*Z >= 0\n",
       "\t2.0*A + 1*B + -1*v4 + 1*u4 == 5.5\n",
       "\t-1*u4 + 1*Z >= 0\n",
       "\t-1*v4 + 1*Z >= 0\n",
       "\t2.0*A + 1*B + -1*v5 + 1*u5 == 6.0\n",
       "\t-1*u5 + 1*Z >= 0\n",
       "\t-1*v5 + 1*Z >= 0\n",
       "\t2.5*A + 1*B + -1*v6 + 1*u6 == 9.5\n",
       "\t-1*u6 + 1*Z >= 0\n",
       "\t-1*v6 + 1*Z >= 0\n",
       "\t3.0*A + 1*B + -1*v7 + 1*u7 == 7.0\n",
       "\t-1*u7 + 1*Z >= 0\n",
       "\t-1*v7 + 1*Z >= 0\n",
       "\t4.0*A + 1*B + -1*v8 + 1*u8 == 9.0\n",
       "\t-1*u8 + 1*Z >= 0\n",
       "\t-1*v8 + 1*Z >= 0\n",
       "\tA: (-inf, inf)\n",
       "\tB: (-inf, inf)\n",
       "\tZ: (0, inf)\n",
       "\tu1: (0, inf)\n",
       "\tv1: (0, inf)\n",
       "\tu2: (0, inf)\n",
       "\tv2: (0, inf)\n",
       "\tu3: (0, inf)\n",
       "\tv3: (0, inf)\n",
       "\tu4: (0, inf)\n",
       "\tv4: (0, inf)\n",
       "\tu5: (0, inf)\n",
       "\tv5: (0, inf)\n",
       "\tu6: (0, inf)\n",
       "\tv6: (0, inf)\n",
       "\tu7: (0, inf)\n",
       "\tv7: (0, inf)\n",
       "\tu8: (0, inf)\n",
       "\tv8: (0, inf)"
      ]
     },
     "execution_count": 41,
     "metadata": {},
     "output_type": "execute_result"
    }
   ],
   "source": [
    "model = Model()\n",
    "\n",
    "a = Variable(name='A', bounds=(-float('inf'), float('inf')))\n",
    "b = Variable(name='B', bounds=(-float('inf'), float('inf')))\n",
    "\n",
    "z = Variable(name='Z')\n",
    "\n",
    "# Adicione a variavel no modelo\n",
    "model.add_var(a)\n",
    "model.add_var(b)\n",
    "model.add_var(z)\n",
    "\n",
    "objective = Expression()\n",
    "\n",
    "for index, observation in observations.items():\n",
    "  u = Variable(name=f'u{index}', bounds=(0, float('inf')))\n",
    "  v = Variable(name=f'v{index}', bounds=(0, float('inf')))\n",
    "\n",
    "  # # Adicionando as variaveis no modelo (sao diferentes a cada iteracao)\n",
    "  model.add_var(u)\n",
    "  model.add_var(v)\n",
    "\n",
    "  # Adicionando as restricoes no modelo (repare que a e b sao UNICAS)\n",
    "  model.add_constr(observation[0] * a + b + (u - v) == observation[1])\n",
    "\n",
    "  # Restricao do Z\n",
    "  model.add_constr(z >= u)\n",
    "  model.add_constr(z >= v)\n",
    "\n",
    "model.set_objective(z)\n",
    "model"
   ]
  },
  {
   "cell_type": "code",
   "execution_count": 43,
   "id": "46179db1-234d-4add-b4f6-0cb0173c02be",
   "metadata": {},
   "outputs": [],
   "source": [
    "# Rodando o algoritmo SIMPLEX com o objetivo de Minimizar\n",
    "f, sol = model.optimize(OBJECTIVE.MINIMIZE)"
   ]
  },
  {
   "cell_type": "code",
   "execution_count": 45,
   "id": "1b1e4750-e292-4f4c-8f02-6138d9e95dfc",
   "metadata": {},
   "outputs": [
    {
     "name": "stdout",
     "output_type": "stream",
     "text": [
      "f* = 1.6666666666666663\n",
      "1.3333333333333341x + 4.499999999999998 = y\n"
     ]
    }
   ],
   "source": [
    "if model.status == STATUS.OPTIMAL:\n",
    "    print (f\"f* = {f}\")\n",
    "    print (f\"{sol[a]}x + {sol[b]} = y\")\n",
    "else:\n",
    "    print (model.status)"
   ]
  },
  {
   "cell_type": "code",
   "execution_count": 49,
   "id": "03adbd9b-3787-4997-9cf6-e46f1986080d",
   "metadata": {},
   "outputs": [
    {
     "data": {
      "image/png": "[encoded data removed]",
      "text/plain": [
       "<Figure size 640x480 with 1 Axes>"
      ]
     },
     "metadata": {},
     "output_type": "display_data"
    }
   ],
   "source": [
    "x = [value[0] for value in observations.values()]\n",
    "y = [value[1] for value in observations.values()]\n",
    "\n",
    "y_pred = [sol[a] * x_i[0] + sol[b] for x_i in observations.values()]\n",
    "\n",
    "plt.scatter(x, y, color='blue', marker='o')\n",
    "plt.plot(x, y_pred, color='red')\n",
    "for label, (xi, yi) in observations.items():\n",
    "    plt.text(xi + 0.05, yi + 0.05, label) \n",
    "\n",
    "plt.xlabel('X')\n",
    "plt.ylabel('Y')\n",
    "plt.title('Observações')\n",
    "\n",
    "plt.grid(True)\n",
    "plt.xlim(0, 5)\n",
    "plt.ylim(0, 10)\n",
    "plt.show()"
   ]
  },
  {
   "cell_type": "code",
   "execution_count": null,
   "id": "ef991db8-5ff8-47c0-a44f-9953f5708970",
   "metadata": {},
   "outputs": [],
   "source": []
  }
 ],
 "metadata": {
  "kernelspec": {
   "display_name": "venvpy (.mestrado)",
   "language": "python",
   "name": ".mestrado"
  },
  "language_info": {
   "codemirror_mode": {
    "name": "ipython",
    "version": 3
   },
   "file_extension": ".py",
   "mimetype": "text/x-python",
   "name": "python",
   "nbconvert_exporter": "python",
   "pygments_lexer": "ipython3",
   "version": "3.11.9"
  }
 },
 "nbformat": 4,
 "nbformat_minor": 5
}
